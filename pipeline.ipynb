{
 "cells": [
  {
   "cell_type": "code",
   "execution_count": 13,
   "metadata": {},
   "outputs": [],
   "source": [
    "import pandas as pd\n",
    "import numpy as np\n",
    "import nltk\n",
    "import string\n",
    "from gensim.models import Word2Vec"
   ]
  },
  {
   "cell_type": "code",
   "execution_count": 4,
   "metadata": {},
   "outputs": [
    {
     "name": "stderr",
     "output_type": "stream",
     "text": [
      "[nltk_data] Downloading package punkt to /home/pepino/nltk_data...\n",
      "[nltk_data]   Package punkt is already up-to-date!\n",
      "[nltk_data] Downloading package stopwords to /home/pepino/nltk_data...\n",
      "[nltk_data]   Package stopwords is already up-to-date!\n",
      "[nltk_data] Downloading package wordnet to /home/pepino/nltk_data...\n",
      "[nltk_data]   Package wordnet is already up-to-date!\n"
     ]
    },
    {
     "data": {
      "text/plain": [
       "True"
      ]
     },
     "execution_count": 4,
     "metadata": {},
     "output_type": "execute_result"
    }
   ],
   "source": [
    "nltk.download('punkt')\n",
    "nltk.download('stopwords')\n",
    "nltk.download('wordnet')"
   ]
  },
  {
   "cell_type": "code",
   "execution_count": 5,
   "metadata": {},
   "outputs": [
    {
     "name": "stdout",
     "output_type": "stream",
     "text": [
      "<class 'pandas.core.frame.DataFrame'>\n",
      "RangeIndex: 23481 entries, 0 to 23480\n",
      "Data columns (total 4 columns):\n",
      " #   Column   Non-Null Count  Dtype \n",
      "---  ------   --------------  ----- \n",
      " 0   title    23481 non-null  object\n",
      " 1   text     23481 non-null  object\n",
      " 2   subject  23481 non-null  object\n",
      " 3   date     23481 non-null  object\n",
      "dtypes: object(4)\n",
      "memory usage: 733.9+ KB\n"
     ]
    }
   ],
   "source": [
    "fake_data = pd.read_csv('data/Fake.csv')\n",
    "fake_data.info()"
   ]
  },
  {
   "cell_type": "code",
   "execution_count": 8,
   "metadata": {},
   "outputs": [
    {
     "data": {
      "text/plain": [
       "title      0\n",
       "text       0\n",
       "subject    0\n",
       "date       0\n",
       "dtype: int64"
      ]
     },
     "execution_count": 8,
     "metadata": {},
     "output_type": "execute_result"
    }
   ],
   "source": [
    "fake_data.isnull().sum()"
   ]
  },
  {
   "cell_type": "code",
   "execution_count": 10,
   "metadata": {},
   "outputs": [
    {
     "data": {
      "text/plain": [
       "subject\n",
       "News               9050\n",
       "politics           6841\n",
       "left-news          4459\n",
       "Government News    1570\n",
       "US_News             783\n",
       "Middle-east         778\n",
       "Name: count, dtype: int64"
      ]
     },
     "execution_count": 10,
     "metadata": {},
     "output_type": "execute_result"
    }
   ],
   "source": [
    "fake_data['subject'].value_counts()"
   ]
  },
  {
   "cell_type": "code",
   "execution_count": 6,
   "metadata": {},
   "outputs": [],
   "source": [
    "text_data = fake_data['text']"
   ]
  },
  {
   "cell_type": "code",
   "execution_count": 16,
   "metadata": {},
   "outputs": [
    {
     "data": {
      "text/plain": [
       "'!\"#$%&\\'()*+,-./:;<=>?@[\\\\]^_`{|}~'"
      ]
     },
     "execution_count": 16,
     "metadata": {},
     "output_type": "execute_result"
    }
   ],
   "source": [
    "string.punctuation"
   ]
  },
  {
   "cell_type": "code",
   "execution_count": 9,
   "metadata": {},
   "outputs": [],
   "source": [
    "lemmatizer = nltk.stem.WordNetLemmatizer()\n",
    "stopwords = nltk.corpus.stopwords.words('english')"
   ]
  },
  {
   "cell_type": "code",
   "execution_count": 10,
   "metadata": {},
   "outputs": [],
   "source": [
    "def preprocess_text(text):\n",
    "    ret_text = text.translate(text.maketrans({x:'' for x in string.punctuation})).lower()\n",
    "    ret_text = nltk.tokenize.word_tokenize(ret_text)\n",
    "    \n",
    "    ret_text = [word for word in ret_text if word not in stopwords]\n",
    "    \n",
    "    ret_text = [lemmatizer.lemmatize(word) for word in ret_text]\n",
    "    return  ret_text\n",
    "    "
   ]
  },
  {
   "cell_type": "code",
   "execution_count": 11,
   "metadata": {},
   "outputs": [
    {
     "data": {
      "text/plain": [
       "0        [donald, trump, wish, american, happy, new, ye...\n",
       "1        [house, intelligence, committee, chairman, dev...\n",
       "2        [friday, revealed, former, milwaukee, sheriff,...\n",
       "3        [christmas, day, donald, trump, announced, wou...\n",
       "4        [pope, francis, used, annual, christmas, day, ...\n",
       "                               ...                        \n",
       "23476    [21st, century, wire, say, 21wire, reported, e...\n",
       "23477    [21st, century, wire, say, familiar, theme, wh...\n",
       "23478    [patrick, henningsen, 21st, century, wireremem...\n",
       "23479    [21st, century, wire, say, al, jazeera, americ...\n",
       "23480    [21st, century, wire, say, 21wire, predicted, ...\n",
       "Name: text, Length: 23481, dtype: object"
      ]
     },
     "execution_count": 11,
     "metadata": {},
     "output_type": "execute_result"
    }
   ],
   "source": [
    "text_data.apply(preprocess_text)"
   ]
  },
  {
   "cell_type": "code",
   "execution_count": 12,
   "metadata": {},
   "outputs": [],
   "source": [
    "w2v_model = Word2Vec(text_data, workers=8)"
   ]
  },
  {
   "cell_type": "code",
   "execution_count": 14,
   "metadata": {},
   "outputs": [],
   "source": [
    "def vectorize(words):\n",
    "    words_vecs = [w2v_model.wv[word] for word in words if word in w2v_model.wv]\n",
    "    if len(words_vecs) == 0:\n",
    "        return np.zeros(100)\n",
    "    words_vecs = np.array(words_vecs)\n",
    "    return words_vecs.mean(axis=0)"
   ]
  },
  {
   "cell_type": "code",
   "execution_count": 15,
   "metadata": {},
   "outputs": [],
   "source": [
    "vectorized_text = np.array([vectorize(text) for text in text_data])"
   ]
  },
  {
   "cell_type": "code",
   "execution_count": 16,
   "metadata": {},
   "outputs": [
    {
     "data": {
      "text/plain": [
       "array([-0.20599341, -0.18279746,  0.06426024,  0.02924897,  0.01051747,\n",
       "        0.07881936, -0.00945119, -0.08691448, -0.11760957,  0.13824245,\n",
       "        0.337986  , -0.25673094,  0.08301435,  0.35641083, -0.02837672,\n",
       "       -0.16140357, -0.09759199,  0.08263341, -0.2565607 ,  0.15675977,\n",
       "       -0.20730709, -0.07702197, -0.03360847,  0.06426428,  0.04803052,\n",
       "        0.04713533, -0.01464768, -0.18048653, -0.06347931, -0.02550424,\n",
       "       -0.27732596, -0.28717333,  0.10904673, -0.03640343, -0.16679528,\n",
       "        0.09269678, -0.20375031,  0.298335  ,  0.02986906,  0.10674539,\n",
       "        0.17615448,  0.01299509,  0.14655872, -0.01648579, -0.16239044,\n",
       "       -0.13980223, -0.02039683,  0.05612905,  0.30446732, -0.04834163,\n",
       "       -0.02777252, -0.02853289, -0.13975878,  0.2670723 , -0.19308819,\n",
       "       -0.18816082,  0.3539325 , -0.09065714, -0.11162925, -0.09930728,\n",
       "        0.02661319,  0.17520085,  0.21521918, -0.23841184,  0.05120436,\n",
       "       -0.12134799, -0.03087408, -0.12464127,  0.12926085, -0.06023026,\n",
       "       -0.29870442,  0.18610285, -0.2415428 ,  0.34283605,  0.16375609,\n",
       "        0.05130473, -0.22127001,  0.12631737, -0.07482339,  0.32116023,\n",
       "       -0.00756256, -0.18835603,  0.10378778, -0.27862406,  0.19937396,\n",
       "        0.24801396,  0.01270772,  0.45401123, -0.3011399 , -0.15053846,\n",
       "        0.01432888, -0.17977448,  0.24711956,  0.12307554,  0.04421699,\n",
       "        0.21118979, -0.01721985,  0.19159667, -0.19217215, -0.06840742],\n",
       "      dtype=float32)"
      ]
     },
     "execution_count": 16,
     "metadata": {},
     "output_type": "execute_result"
    }
   ],
   "source": [
    "vectorized_text[0]"
   ]
  }
 ],
 "metadata": {
  "kernelspec": {
   "display_name": ".venv",
   "language": "python",
   "name": "python3"
  },
  "language_info": {
   "codemirror_mode": {
    "name": "ipython",
    "version": 3
   },
   "file_extension": ".py",
   "mimetype": "text/x-python",
   "name": "python",
   "nbconvert_exporter": "python",
   "pygments_lexer": "ipython3",
   "version": "3.10.12"
  }
 },
 "nbformat": 4,
 "nbformat_minor": 2
}
